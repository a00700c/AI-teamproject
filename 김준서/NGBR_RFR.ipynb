{
  "cells": [
    {
      "cell_type": "code",
      "source": [
        "import numpy as np # linear algebra\n",
        "import pandas as pd # data processing, CSV file I/O (e.g. pd.read_csv)\n",
        "from sklearn.model_selection import cross_val_score, train_test_split\n",
        "from sklearn.linear_model import LinearRegression\n",
        "from sklearn.metrics import mean_squared_error, mean_absolute_error\n",
        "%pip install --upgrade ngboost\n",
        "from ngboost import NGBRegressor\n",
        "from sklearn.model_selection import GridSearchCV\n",
        "#같은 경로에 모든 데이터파일이 있다고 가정"
      ],
      "metadata": {
        "id": "rzV0ilvWX25s",
        "outputId": "c2e3454f-980d-4a61-baaa-a1f86569c7b7",
        "colab": {
          "base_uri": "https://localhost:8080/"
        }
      },
      "execution_count": 1,
      "outputs": [
        {
          "output_type": "stream",
          "name": "stdout",
          "text": [
            "Requirement already satisfied: ngboost in /usr/local/lib/python3.7/dist-packages (0.3.12)\n",
            "Requirement already satisfied: scipy>=1.3 in /usr/local/lib/python3.7/dist-packages (from ngboost) (1.7.3)\n",
            "Requirement already satisfied: numpy>=1.17 in /usr/local/lib/python3.7/dist-packages (from ngboost) (1.21.6)\n",
            "Requirement already satisfied: lifelines>=0.25 in /usr/local/lib/python3.7/dist-packages (from ngboost) (0.27.0)\n",
            "Requirement already satisfied: scikit-learn>=0.21 in /usr/local/lib/python3.7/dist-packages (from ngboost) (1.0.2)\n",
            "Requirement already satisfied: tqdm>=4.3 in /usr/local/lib/python3.7/dist-packages (from ngboost) (4.64.0)\n",
            "Requirement already satisfied: autograd-gamma>=0.3 in /usr/local/lib/python3.7/dist-packages (from lifelines>=0.25->ngboost) (0.5.0)\n",
            "Requirement already satisfied: matplotlib>=3.0 in /usr/local/lib/python3.7/dist-packages (from lifelines>=0.25->ngboost) (3.2.2)\n",
            "Requirement already satisfied: autograd>=1.3 in /usr/local/lib/python3.7/dist-packages (from lifelines>=0.25->ngboost) (1.4)\n",
            "Requirement already satisfied: pandas>=1.0.0 in /usr/local/lib/python3.7/dist-packages (from lifelines>=0.25->ngboost) (1.3.5)\n",
            "Requirement already satisfied: formulaic>=0.2.2 in /usr/local/lib/python3.7/dist-packages (from lifelines>=0.25->ngboost) (0.3.4)\n",
            "Requirement already satisfied: future>=0.15.2 in /usr/local/lib/python3.7/dist-packages (from autograd>=1.3->lifelines>=0.25->ngboost) (0.16.0)\n",
            "Requirement already satisfied: astor>=0.8 in /usr/local/lib/python3.7/dist-packages (from formulaic>=0.2.2->lifelines>=0.25->ngboost) (0.8.1)\n",
            "Requirement already satisfied: wrapt>=1.0 in /usr/local/lib/python3.7/dist-packages (from formulaic>=0.2.2->lifelines>=0.25->ngboost) (1.14.0)\n",
            "Requirement already satisfied: interface-meta<2.0.0,>=1.2.0 in /usr/local/lib/python3.7/dist-packages (from formulaic>=0.2.2->lifelines>=0.25->ngboost) (1.3.0)\n",
            "Requirement already satisfied: pyparsing!=2.0.4,!=2.1.2,!=2.1.6,>=2.0.1 in /usr/local/lib/python3.7/dist-packages (from matplotlib>=3.0->lifelines>=0.25->ngboost) (3.0.8)\n",
            "Requirement already satisfied: kiwisolver>=1.0.1 in /usr/local/lib/python3.7/dist-packages (from matplotlib>=3.0->lifelines>=0.25->ngboost) (1.4.2)\n",
            "Requirement already satisfied: cycler>=0.10 in /usr/local/lib/python3.7/dist-packages (from matplotlib>=3.0->lifelines>=0.25->ngboost) (0.11.0)\n",
            "Requirement already satisfied: python-dateutil>=2.1 in /usr/local/lib/python3.7/dist-packages (from matplotlib>=3.0->lifelines>=0.25->ngboost) (2.8.2)\n",
            "Requirement already satisfied: typing-extensions in /usr/local/lib/python3.7/dist-packages (from kiwisolver>=1.0.1->matplotlib>=3.0->lifelines>=0.25->ngboost) (4.2.0)\n",
            "Requirement already satisfied: pytz>=2017.3 in /usr/local/lib/python3.7/dist-packages (from pandas>=1.0.0->lifelines>=0.25->ngboost) (2022.1)\n",
            "Requirement already satisfied: six>=1.5 in /usr/local/lib/python3.7/dist-packages (from python-dateutil>=2.1->matplotlib>=3.0->lifelines>=0.25->ngboost) (1.15.0)\n",
            "Requirement already satisfied: joblib>=0.11 in /usr/local/lib/python3.7/dist-packages (from scikit-learn>=0.21->ngboost) (1.1.0)\n",
            "Requirement already satisfied: threadpoolctl>=2.0.0 in /usr/local/lib/python3.7/dist-packages (from scikit-learn>=0.21->ngboost) (3.1.0)\n"
          ]
        }
      ]
    },
    {
      "cell_type": "code",
      "source": [
        "df = pd.read_csv('boston.csv')"
      ],
      "metadata": {
        "id": "ybaP5ozrYabs"
      },
      "execution_count": 2,
      "outputs": []
    },
    {
      "cell_type": "code",
      "source": [
        "df.shape"
      ],
      "metadata": {
        "id": "zp0X0QpoYs2W",
        "outputId": "281c8411-faab-4e69-8960-882a5ed920c0",
        "colab": {
          "base_uri": "https://localhost:8080/"
        }
      },
      "execution_count": 3,
      "outputs": [
        {
          "output_type": "execute_result",
          "data": {
            "text/plain": [
              "(506, 14)"
            ]
          },
          "metadata": {},
          "execution_count": 3
        }
      ]
    },
    {
      "cell_type": "code",
      "source": [
        "#데이터 전처리\n",
        "X = df.drop(columns=['MEDV'], axis=1)\n",
        "X.head()"
      ],
      "metadata": {
        "id": "jwi2VKqBY9WJ",
        "outputId": "dd89c99d-6faa-4628-c7a0-9e5a9eae72f4",
        "colab": {
          "base_uri": "https://localhost:8080/",
          "height": 206
        }
      },
      "execution_count": 4,
      "outputs": [
        {
          "output_type": "execute_result",
          "data": {
            "text/plain": [
              "      CRIM    ZN  INDUS  CHAS    NOX     RM   AGE     DIS  RAD    TAX  \\\n",
              "0  0.00632  18.0   2.31     0  0.538  6.575  65.2  4.0900    1  296.0   \n",
              "1  0.02731   0.0   7.07     0  0.469  6.421  78.9  4.9671    2  242.0   \n",
              "2  0.02729   0.0   7.07     0  0.469  7.185  61.1  4.9671    2  242.0   \n",
              "3  0.03237   0.0   2.18     0  0.458  6.998  45.8  6.0622    3  222.0   \n",
              "4  0.06905   0.0   2.18     0  0.458  7.147  54.2  6.0622    3  222.0   \n",
              "\n",
              "   PTRATIO       B  LSTAT  \n",
              "0     15.3  396.90   4.98  \n",
              "1     17.8  396.90   9.14  \n",
              "2     17.8  392.83   4.03  \n",
              "3     18.7  394.63   2.94  \n",
              "4     18.7  396.90   5.33  "
            ],
            "text/html": [
              "\n",
              "  <div id=\"df-e1df29d1-1a57-4960-9f9e-12481c8a68fc\">\n",
              "    <div class=\"colab-df-container\">\n",
              "      <div>\n",
              "<style scoped>\n",
              "    .dataframe tbody tr th:only-of-type {\n",
              "        vertical-align: middle;\n",
              "    }\n",
              "\n",
              "    .dataframe tbody tr th {\n",
              "        vertical-align: top;\n",
              "    }\n",
              "\n",
              "    .dataframe thead th {\n",
              "        text-align: right;\n",
              "    }\n",
              "</style>\n",
              "<table border=\"1\" class=\"dataframe\">\n",
              "  <thead>\n",
              "    <tr style=\"text-align: right;\">\n",
              "      <th></th>\n",
              "      <th>CRIM</th>\n",
              "      <th>ZN</th>\n",
              "      <th>INDUS</th>\n",
              "      <th>CHAS</th>\n",
              "      <th>NOX</th>\n",
              "      <th>RM</th>\n",
              "      <th>AGE</th>\n",
              "      <th>DIS</th>\n",
              "      <th>RAD</th>\n",
              "      <th>TAX</th>\n",
              "      <th>PTRATIO</th>\n",
              "      <th>B</th>\n",
              "      <th>LSTAT</th>\n",
              "    </tr>\n",
              "  </thead>\n",
              "  <tbody>\n",
              "    <tr>\n",
              "      <th>0</th>\n",
              "      <td>0.00632</td>\n",
              "      <td>18.0</td>\n",
              "      <td>2.31</td>\n",
              "      <td>0</td>\n",
              "      <td>0.538</td>\n",
              "      <td>6.575</td>\n",
              "      <td>65.2</td>\n",
              "      <td>4.0900</td>\n",
              "      <td>1</td>\n",
              "      <td>296.0</td>\n",
              "      <td>15.3</td>\n",
              "      <td>396.90</td>\n",
              "      <td>4.98</td>\n",
              "    </tr>\n",
              "    <tr>\n",
              "      <th>1</th>\n",
              "      <td>0.02731</td>\n",
              "      <td>0.0</td>\n",
              "      <td>7.07</td>\n",
              "      <td>0</td>\n",
              "      <td>0.469</td>\n",
              "      <td>6.421</td>\n",
              "      <td>78.9</td>\n",
              "      <td>4.9671</td>\n",
              "      <td>2</td>\n",
              "      <td>242.0</td>\n",
              "      <td>17.8</td>\n",
              "      <td>396.90</td>\n",
              "      <td>9.14</td>\n",
              "    </tr>\n",
              "    <tr>\n",
              "      <th>2</th>\n",
              "      <td>0.02729</td>\n",
              "      <td>0.0</td>\n",
              "      <td>7.07</td>\n",
              "      <td>0</td>\n",
              "      <td>0.469</td>\n",
              "      <td>7.185</td>\n",
              "      <td>61.1</td>\n",
              "      <td>4.9671</td>\n",
              "      <td>2</td>\n",
              "      <td>242.0</td>\n",
              "      <td>17.8</td>\n",
              "      <td>392.83</td>\n",
              "      <td>4.03</td>\n",
              "    </tr>\n",
              "    <tr>\n",
              "      <th>3</th>\n",
              "      <td>0.03237</td>\n",
              "      <td>0.0</td>\n",
              "      <td>2.18</td>\n",
              "      <td>0</td>\n",
              "      <td>0.458</td>\n",
              "      <td>6.998</td>\n",
              "      <td>45.8</td>\n",
              "      <td>6.0622</td>\n",
              "      <td>3</td>\n",
              "      <td>222.0</td>\n",
              "      <td>18.7</td>\n",
              "      <td>394.63</td>\n",
              "      <td>2.94</td>\n",
              "    </tr>\n",
              "    <tr>\n",
              "      <th>4</th>\n",
              "      <td>0.06905</td>\n",
              "      <td>0.0</td>\n",
              "      <td>2.18</td>\n",
              "      <td>0</td>\n",
              "      <td>0.458</td>\n",
              "      <td>7.147</td>\n",
              "      <td>54.2</td>\n",
              "      <td>6.0622</td>\n",
              "      <td>3</td>\n",
              "      <td>222.0</td>\n",
              "      <td>18.7</td>\n",
              "      <td>396.90</td>\n",
              "      <td>5.33</td>\n",
              "    </tr>\n",
              "  </tbody>\n",
              "</table>\n",
              "</div>\n",
              "      <button class=\"colab-df-convert\" onclick=\"convertToInteractive('df-e1df29d1-1a57-4960-9f9e-12481c8a68fc')\"\n",
              "              title=\"Convert this dataframe to an interactive table.\"\n",
              "              style=\"display:none;\">\n",
              "        \n",
              "  <svg xmlns=\"http://www.w3.org/2000/svg\" height=\"24px\"viewBox=\"0 0 24 24\"\n",
              "       width=\"24px\">\n",
              "    <path d=\"M0 0h24v24H0V0z\" fill=\"none\"/>\n",
              "    <path d=\"M18.56 5.44l.94 2.06.94-2.06 2.06-.94-2.06-.94-.94-2.06-.94 2.06-2.06.94zm-11 1L8.5 8.5l.94-2.06 2.06-.94-2.06-.94L8.5 2.5l-.94 2.06-2.06.94zm10 10l.94 2.06.94-2.06 2.06-.94-2.06-.94-.94-2.06-.94 2.06-2.06.94z\"/><path d=\"M17.41 7.96l-1.37-1.37c-.4-.4-.92-.59-1.43-.59-.52 0-1.04.2-1.43.59L10.3 9.45l-7.72 7.72c-.78.78-.78 2.05 0 2.83L4 21.41c.39.39.9.59 1.41.59.51 0 1.02-.2 1.41-.59l7.78-7.78 2.81-2.81c.8-.78.8-2.07 0-2.86zM5.41 20L4 18.59l7.72-7.72 1.47 1.35L5.41 20z\"/>\n",
              "  </svg>\n",
              "      </button>\n",
              "      \n",
              "  <style>\n",
              "    .colab-df-container {\n",
              "      display:flex;\n",
              "      flex-wrap:wrap;\n",
              "      gap: 12px;\n",
              "    }\n",
              "\n",
              "    .colab-df-convert {\n",
              "      background-color: #E8F0FE;\n",
              "      border: none;\n",
              "      border-radius: 50%;\n",
              "      cursor: pointer;\n",
              "      display: none;\n",
              "      fill: #1967D2;\n",
              "      height: 32px;\n",
              "      padding: 0 0 0 0;\n",
              "      width: 32px;\n",
              "    }\n",
              "\n",
              "    .colab-df-convert:hover {\n",
              "      background-color: #E2EBFA;\n",
              "      box-shadow: 0px 1px 2px rgba(60, 64, 67, 0.3), 0px 1px 3px 1px rgba(60, 64, 67, 0.15);\n",
              "      fill: #174EA6;\n",
              "    }\n",
              "\n",
              "    [theme=dark] .colab-df-convert {\n",
              "      background-color: #3B4455;\n",
              "      fill: #D2E3FC;\n",
              "    }\n",
              "\n",
              "    [theme=dark] .colab-df-convert:hover {\n",
              "      background-color: #434B5C;\n",
              "      box-shadow: 0px 1px 3px 1px rgba(0, 0, 0, 0.15);\n",
              "      filter: drop-shadow(0px 1px 2px rgba(0, 0, 0, 0.3));\n",
              "      fill: #FFFFFF;\n",
              "    }\n",
              "  </style>\n",
              "\n",
              "      <script>\n",
              "        const buttonEl =\n",
              "          document.querySelector('#df-e1df29d1-1a57-4960-9f9e-12481c8a68fc button.colab-df-convert');\n",
              "        buttonEl.style.display =\n",
              "          google.colab.kernel.accessAllowed ? 'block' : 'none';\n",
              "\n",
              "        async function convertToInteractive(key) {\n",
              "          const element = document.querySelector('#df-e1df29d1-1a57-4960-9f9e-12481c8a68fc');\n",
              "          const dataTable =\n",
              "            await google.colab.kernel.invokeFunction('convertToInteractive',\n",
              "                                                     [key], {});\n",
              "          if (!dataTable) return;\n",
              "\n",
              "          const docLinkHtml = 'Like what you see? Visit the ' +\n",
              "            '<a target=\"_blank\" href=https://colab.research.google.com/notebooks/data_table.ipynb>data table notebook</a>'\n",
              "            + ' to learn more about interactive tables.';\n",
              "          element.innerHTML = '';\n",
              "          dataTable['output_type'] = 'display_data';\n",
              "          await google.colab.output.renderOutput(dataTable, element);\n",
              "          const docLink = document.createElement('div');\n",
              "          docLink.innerHTML = docLinkHtml;\n",
              "          element.appendChild(docLink);\n",
              "        }\n",
              "      </script>\n",
              "    </div>\n",
              "  </div>\n",
              "  "
            ]
          },
          "metadata": {},
          "execution_count": 4
        }
      ]
    },
    {
      "cell_type": "code",
      "source": [
        "#결과값\n",
        "y = df['MEDV']\n",
        "y.head()"
      ],
      "metadata": {
        "id": "_SLIb_aIZAk0",
        "outputId": "e812bc32-3d1d-47bd-eec8-679c83791c2e",
        "colab": {
          "base_uri": "https://localhost:8080/"
        }
      },
      "execution_count": 5,
      "outputs": [
        {
          "output_type": "execute_result",
          "data": {
            "text/plain": [
              "0    24.0\n",
              "1    21.6\n",
              "2    34.7\n",
              "3    33.4\n",
              "4    36.2\n",
              "Name: MEDV, dtype: float64"
            ]
          },
          "metadata": {},
          "execution_count": 5
        }
      ]
    },
    {
      "cell_type": "code",
      "source": [
        "X_train, X_test, y_train, y_test = train_test_split(X, y,train_size=0.8,random_state=7)"
      ],
      "metadata": {
        "id": "a_ES2X8pZVzq"
      },
      "execution_count": 6,
      "outputs": []
    },
    {
      "cell_type": "code",
      "source": [
        "NGB = NGBRegressor()\n",
        "\n",
        "# GridSearch 를 사용하기 위해 parameters 를 정한다.\n",
        "parameters = {'learning_rate': [0.01, 0.02, 0.03, 0.04],\n",
        "              'col_sample': [0.9, 0.5, 0.2, 0.1],\n",
        "              'n_estimators': [100, 500, 1000],\n",
        "              }\n",
        "\n",
        "# GBR 을 모델로, parameters 를 파라미터로 받고, cv는 교차 검증을 위해 분할하는 데이터 셋의 개수이다.\n",
        "grid_NGB = GridSearchCV(estimator=NGB, param_grid=parameters, cv=2, n_jobs=-1)\n",
        "ngb = grid_NGB.fit(X_train, y_train)\n",
        "print('best parameters : ', grid_NGB.best_params_)"
      ],
      "metadata": {
        "colab": {
          "base_uri": "https://localhost:8080/"
        },
        "id": "WnnLZLX4-rqr",
        "outputId": "6187387f-0f37-446f-fb90-9a19e4512d67"
      },
      "execution_count": 7,
      "outputs": [
        {
          "output_type": "stream",
          "name": "stdout",
          "text": [
            "[iter 0] loss=3.6422 val_loss=0.0000 scale=1.0000 norm=6.8167\n",
            "[iter 100] loss=1.7839 val_loss=0.0000 scale=1.0000 norm=1.4066\n",
            "[iter 200] loss=1.4537 val_loss=0.0000 scale=1.0000 norm=1.1311\n",
            "[iter 300] loss=1.2378 val_loss=0.0000 scale=1.0000 norm=0.9675\n",
            "[iter 400] loss=1.0630 val_loss=0.0000 scale=0.5000 norm=0.4301\n",
            "[iter 500] loss=0.9057 val_loss=0.0000 scale=0.2500 norm=0.1944\n",
            "[iter 600] loss=0.7832 val_loss=0.0000 scale=0.5000 norm=0.3591\n",
            "[iter 700] loss=0.6700 val_loss=0.0000 scale=0.5000 norm=0.3348\n",
            "[iter 800] loss=0.5916 val_loss=0.0000 scale=0.2500 norm=0.1594\n",
            "[iter 900] loss=0.5139 val_loss=0.0000 scale=0.0156 norm=0.0095\n",
            "best parameters :  {'col_sample': 0.5, 'learning_rate': 0.04, 'n_estimators': 1000}\n"
          ]
        }
      ]
    },
    {
      "cell_type": "code",
      "source": [
        "y_preds = ngb.predict(X_test)\n",
        "def find_mape(y_test, pred):\n",
        "    return np.mean(np.abs((y_test - pred) / y_test)) * 100\n",
        "MAPE = find_mape(y_test, y_preds)\n",
        "# test Mean Squared Error\n",
        "test_MSE = np.sqrt(mean_squared_error(y_preds, y_test))\n",
        "test_MAE = mean_absolute_error(y_preds, y_test)\n",
        "print('Test RMSE', test_MSE)\n",
        "print('Test MAE', test_MAE)\n",
        "print('Test MAPE',MAPE)\n"
      ],
      "metadata": {
        "id": "8bf6bHZ5ZZfp",
        "outputId": "04fa38dc-34c1-488a-ae99-6876a3ee5b2f",
        "colab": {
          "base_uri": "https://localhost:8080/"
        }
      },
      "execution_count": 8,
      "outputs": [
        {
          "output_type": "stream",
          "name": "stdout",
          "text": [
            "Test RMSE 3.531649112201477\n",
            "Test MAE 2.2248532650989254\n",
            "Test MAPE 11.336197148152984\n"
          ]
        }
      ]
    },
    {
      "cell_type": "code",
      "source": [
        "#콘크리트 파일\n",
        "df = pd.read_csv('Concrete_Data_Yeh.csv')\n",
        "\n",
        "df.columns = ['cement', 'slag', 'ash', 'water', 'splast', 'coarse', 'fine', 'age', 'strength']\n",
        "# Extract the X and y data from the DataFrame \n",
        "X = df.drop('strength', axis=1)\n",
        "y = df['strength']\n",
        "\n",
        "# Create the train and test data \n",
        "X_train, X_test, y_train, y_test = train_test_split(X, y, test_size=0.2, random_state=7)\n",
        "\n",
        "df.shape"
      ],
      "metadata": {
        "id": "bdr0WgpDZ-Ly",
        "colab": {
          "base_uri": "https://localhost:8080/"
        },
        "outputId": "48b4c009-538e-46f9-ba59-7ddd43896ac4"
      },
      "execution_count": 28,
      "outputs": [
        {
          "output_type": "execute_result",
          "data": {
            "text/plain": [
              "(1030, 9)"
            ]
          },
          "metadata": {},
          "execution_count": 28
        }
      ]
    },
    {
      "cell_type": "code",
      "source": [
        "X.head()\n",
        "y.head()"
      ],
      "metadata": {
        "id": "rab1D5KigOVk",
        "outputId": "8ca67ce6-7fcb-4237-88a1-29df1f6d6770",
        "colab": {
          "base_uri": "https://localhost:8080/"
        }
      },
      "execution_count": 17,
      "outputs": [
        {
          "output_type": "execute_result",
          "data": {
            "text/plain": [
              "0    79.99\n",
              "1    61.89\n",
              "2    40.27\n",
              "3    41.05\n",
              "4    44.30\n",
              "Name: strength, dtype: float64"
            ]
          },
          "metadata": {},
          "execution_count": 17
        }
      ]
    },
    {
      "cell_type": "code",
      "source": [
        "NGB = NGBRegressor()\n",
        "\n",
        "# GridSearch 를 사용하기 위해 parameters 를 정한다.\n",
        "parameters = {'learning_rate': [0.01, 0.02, 0.03, 0.04],\n",
        "              'col_sample': [0.9, 0.5, 0.2, 0.1],\n",
        "              'n_estimators': [100, 500, 1000],\n",
        "              }\n",
        "\n",
        "# GBR 을 모델로, parameters 를 파라미터로 받고, cv는 교차 검증을 위해 분할하는 데이터 셋의 개수이다.\n",
        "grid_NGB = GridSearchCV(estimator=NGB, param_grid=parameters, cv=2, n_jobs=-1)\n",
        "ngb = grid_NGB.fit(X_train, y_train)\n",
        "print('best parameters : ', grid_NGB.best_params_)\n",
        "y_preds = ngb.predict(X_test)\n",
        "MAPE = find_mape(y_test, y_preds)\n",
        "# test Mean Squared Error\n",
        "test_MSE = np.sqrt(mean_squared_error(y_preds, y_test))\n",
        "test_MAE = mean_absolute_error(y_preds, y_test)\n",
        "print('Test RMSE', test_MSE)\n",
        "print('Test MAE', test_MAE)\n",
        "print('Test MAPE',MAPE)"
      ],
      "metadata": {
        "id": "4FdYougRgW5z",
        "outputId": "488c974e-f623-487d-d6d7-a0d1cebaad93",
        "colab": {
          "base_uri": "https://localhost:8080/"
        }
      },
      "execution_count": 18,
      "outputs": [
        {
          "output_type": "stream",
          "name": "stderr",
          "text": [
            "/usr/local/lib/python3.7/dist-packages/sklearn/model_selection/_validation.py:372: FitFailedWarning: \n",
            "24 fits failed out of a total of 96.\n",
            "The score on these train-test partitions for these parameters will be set to nan.\n",
            "If these failures are not expected, you can try to debug them by setting error_score='raise'.\n",
            "\n",
            "Below are more details about the failures:\n",
            "--------------------------------------------------------------------------------\n",
            "24 fits failed with the following error:\n",
            "Traceback (most recent call last):\n",
            "  File \"/usr/local/lib/python3.7/dist-packages/sklearn/model_selection/_validation.py\", line 680, in _fit_and_score\n",
            "    estimator.fit(X_train, y_train, **fit_params)\n",
            "  File \"/usr/local/lib/python3.7/dist-packages/ngboost/ngboost.py\", line 277, in fit\n",
            "    proj_grad = self.fit_base(X_batch, grads, weight_batch)\n",
            "  File \"/usr/local/lib/python3.7/dist-packages/ngboost/ngboost.py\", line 153, in fit_base\n",
            "    clone(self.Base).fit(X, g, sample_weight=sample_weight) for g in grads.T\n",
            "  File \"/usr/local/lib/python3.7/dist-packages/ngboost/ngboost.py\", line 153, in <listcomp>\n",
            "    clone(self.Base).fit(X, g, sample_weight=sample_weight) for g in grads.T\n",
            "  File \"/usr/local/lib/python3.7/dist-packages/sklearn/tree/_classes.py\", line 1320, in fit\n",
            "    X_idx_sorted=X_idx_sorted,\n",
            "  File \"/usr/local/lib/python3.7/dist-packages/sklearn/tree/_classes.py\", line 166, in fit\n",
            "    X, y, validate_separately=(check_X_params, check_y_params)\n",
            "  File \"/usr/local/lib/python3.7/dist-packages/sklearn/base.py\", line 578, in _validate_data\n",
            "    X = check_array(X, **check_X_params)\n",
            "  File \"/usr/local/lib/python3.7/dist-packages/sklearn/utils/validation.py\", line 817, in check_array\n",
            "    % (n_features, array.shape, ensure_min_features, context)\n",
            "ValueError: Found array with 0 feature(s) (shape=(412, 0)) while a minimum of 1 is required.\n",
            "\n",
            "  warnings.warn(some_fits_failed_message, FitFailedWarning)\n",
            "/usr/local/lib/python3.7/dist-packages/sklearn/model_selection/_search.py:972: UserWarning: One or more of the test scores are non-finite: [ 3.811439    3.36509448  4.08087318  3.42701307  4.11548729 13.64727958\n",
            "  3.27064689  5.87731645 20.27367894  3.2922601   9.12690803 18.38054982\n",
            "  3.86818855  3.27634281  3.81621575  3.57225398  3.92319245  7.51376319\n",
            "  3.35954592  5.14244768 20.45372839  3.29260113  7.46394616 96.66947526\n",
            "  4.05384996  3.73112809  3.8853455   3.92314824  3.88444269  5.2161953\n",
            "  3.83205321  4.3170462   7.7524639   3.77940492  5.14600314 14.86802052\n",
            "         nan         nan         nan         nan         nan         nan\n",
            "         nan         nan         nan         nan         nan         nan]\n",
            "  category=UserWarning,\n"
          ]
        },
        {
          "output_type": "stream",
          "name": "stdout",
          "text": [
            "[iter 0] loss=4.2399 val_loss=0.0000 scale=1.0000 norm=13.5388\n",
            "[iter 100] loss=2.9723 val_loss=0.0000 scale=1.0000 norm=4.0182\n",
            "[iter 200] loss=2.6083 val_loss=0.0000 scale=2.0000 norm=6.0408\n",
            "[iter 300] loss=2.4210 val_loss=0.0000 scale=1.0000 norm=2.6013\n",
            "[iter 400] loss=2.2891 val_loss=0.0000 scale=1.0000 norm=2.3607\n",
            "[iter 500] loss=2.2056 val_loss=0.0000 scale=0.1250 norm=0.2774\n",
            "[iter 600] loss=2.1405 val_loss=0.0000 scale=0.1250 norm=0.2646\n",
            "[iter 700] loss=2.0993 val_loss=0.0000 scale=1.0000 norm=2.0543\n",
            "[iter 800] loss=2.0490 val_loss=0.0000 scale=1.0000 norm=1.9813\n",
            "[iter 900] loss=2.0017 val_loss=0.0000 scale=1.0000 norm=1.9146\n",
            "best parameters :  {'col_sample': 0.5, 'learning_rate': 0.04, 'n_estimators': 1000}\n",
            "Test RMSE 3.603854794908777\n",
            "Test MAE 2.7261713535640753\n",
            "Test MAPE 9.336934906763673\n"
          ]
        }
      ]
    },
    {
      "cell_type": "code",
      "source": [
        "#보험\n",
        "data = pd.read_csv('insurance.csv')"
      ],
      "metadata": {
        "id": "gajg_CSUgrYF"
      },
      "execution_count": 12,
      "outputs": []
    },
    {
      "cell_type": "code",
      "source": [
        "from sklearn.preprocessing import LabelEncoder\n",
        "#sex\n",
        "le = LabelEncoder()\n",
        "le.fit(data.sex.drop_duplicates()) \n",
        "data.sex = le.transform(data.sex)\n",
        "# smoker or not\n",
        "le.fit(data.smoker.drop_duplicates()) \n",
        "data.smoker = le.transform(data.smoker)\n",
        "#region\n",
        "le.fit(data.region.drop_duplicates()) \n",
        "data.region = le.transform(data.region)"
      ],
      "metadata": {
        "id": "-RVo3xONhWMa"
      },
      "execution_count": 13,
      "outputs": []
    },
    {
      "cell_type": "code",
      "source": [
        "data.head()"
      ],
      "metadata": {
        "id": "meCXEVNWigg5",
        "outputId": "4e3779da-df07-4e72-d0a6-f02ef43ff782",
        "colab": {
          "base_uri": "https://localhost:8080/",
          "height": 206
        }
      },
      "execution_count": 14,
      "outputs": [
        {
          "output_type": "execute_result",
          "data": {
            "text/plain": [
              "   age  sex     bmi  children  smoker  region      charges\n",
              "0   19    0  27.900         0       1       3  16884.92400\n",
              "1   18    1  33.770         1       0       2   1725.55230\n",
              "2   28    1  33.000         3       0       2   4449.46200\n",
              "3   33    1  22.705         0       0       1  21984.47061\n",
              "4   32    1  28.880         0       0       1   3866.85520"
            ],
            "text/html": [
              "\n",
              "  <div id=\"df-23af64b0-e184-4537-933b-0d71da4fbf04\">\n",
              "    <div class=\"colab-df-container\">\n",
              "      <div>\n",
              "<style scoped>\n",
              "    .dataframe tbody tr th:only-of-type {\n",
              "        vertical-align: middle;\n",
              "    }\n",
              "\n",
              "    .dataframe tbody tr th {\n",
              "        vertical-align: top;\n",
              "    }\n",
              "\n",
              "    .dataframe thead th {\n",
              "        text-align: right;\n",
              "    }\n",
              "</style>\n",
              "<table border=\"1\" class=\"dataframe\">\n",
              "  <thead>\n",
              "    <tr style=\"text-align: right;\">\n",
              "      <th></th>\n",
              "      <th>age</th>\n",
              "      <th>sex</th>\n",
              "      <th>bmi</th>\n",
              "      <th>children</th>\n",
              "      <th>smoker</th>\n",
              "      <th>region</th>\n",
              "      <th>charges</th>\n",
              "    </tr>\n",
              "  </thead>\n",
              "  <tbody>\n",
              "    <tr>\n",
              "      <th>0</th>\n",
              "      <td>19</td>\n",
              "      <td>0</td>\n",
              "      <td>27.900</td>\n",
              "      <td>0</td>\n",
              "      <td>1</td>\n",
              "      <td>3</td>\n",
              "      <td>16884.92400</td>\n",
              "    </tr>\n",
              "    <tr>\n",
              "      <th>1</th>\n",
              "      <td>18</td>\n",
              "      <td>1</td>\n",
              "      <td>33.770</td>\n",
              "      <td>1</td>\n",
              "      <td>0</td>\n",
              "      <td>2</td>\n",
              "      <td>1725.55230</td>\n",
              "    </tr>\n",
              "    <tr>\n",
              "      <th>2</th>\n",
              "      <td>28</td>\n",
              "      <td>1</td>\n",
              "      <td>33.000</td>\n",
              "      <td>3</td>\n",
              "      <td>0</td>\n",
              "      <td>2</td>\n",
              "      <td>4449.46200</td>\n",
              "    </tr>\n",
              "    <tr>\n",
              "      <th>3</th>\n",
              "      <td>33</td>\n",
              "      <td>1</td>\n",
              "      <td>22.705</td>\n",
              "      <td>0</td>\n",
              "      <td>0</td>\n",
              "      <td>1</td>\n",
              "      <td>21984.47061</td>\n",
              "    </tr>\n",
              "    <tr>\n",
              "      <th>4</th>\n",
              "      <td>32</td>\n",
              "      <td>1</td>\n",
              "      <td>28.880</td>\n",
              "      <td>0</td>\n",
              "      <td>0</td>\n",
              "      <td>1</td>\n",
              "      <td>3866.85520</td>\n",
              "    </tr>\n",
              "  </tbody>\n",
              "</table>\n",
              "</div>\n",
              "      <button class=\"colab-df-convert\" onclick=\"convertToInteractive('df-23af64b0-e184-4537-933b-0d71da4fbf04')\"\n",
              "              title=\"Convert this dataframe to an interactive table.\"\n",
              "              style=\"display:none;\">\n",
              "        \n",
              "  <svg xmlns=\"http://www.w3.org/2000/svg\" height=\"24px\"viewBox=\"0 0 24 24\"\n",
              "       width=\"24px\">\n",
              "    <path d=\"M0 0h24v24H0V0z\" fill=\"none\"/>\n",
              "    <path d=\"M18.56 5.44l.94 2.06.94-2.06 2.06-.94-2.06-.94-.94-2.06-.94 2.06-2.06.94zm-11 1L8.5 8.5l.94-2.06 2.06-.94-2.06-.94L8.5 2.5l-.94 2.06-2.06.94zm10 10l.94 2.06.94-2.06 2.06-.94-2.06-.94-.94-2.06-.94 2.06-2.06.94z\"/><path d=\"M17.41 7.96l-1.37-1.37c-.4-.4-.92-.59-1.43-.59-.52 0-1.04.2-1.43.59L10.3 9.45l-7.72 7.72c-.78.78-.78 2.05 0 2.83L4 21.41c.39.39.9.59 1.41.59.51 0 1.02-.2 1.41-.59l7.78-7.78 2.81-2.81c.8-.78.8-2.07 0-2.86zM5.41 20L4 18.59l7.72-7.72 1.47 1.35L5.41 20z\"/>\n",
              "  </svg>\n",
              "      </button>\n",
              "      \n",
              "  <style>\n",
              "    .colab-df-container {\n",
              "      display:flex;\n",
              "      flex-wrap:wrap;\n",
              "      gap: 12px;\n",
              "    }\n",
              "\n",
              "    .colab-df-convert {\n",
              "      background-color: #E8F0FE;\n",
              "      border: none;\n",
              "      border-radius: 50%;\n",
              "      cursor: pointer;\n",
              "      display: none;\n",
              "      fill: #1967D2;\n",
              "      height: 32px;\n",
              "      padding: 0 0 0 0;\n",
              "      width: 32px;\n",
              "    }\n",
              "\n",
              "    .colab-df-convert:hover {\n",
              "      background-color: #E2EBFA;\n",
              "      box-shadow: 0px 1px 2px rgba(60, 64, 67, 0.3), 0px 1px 3px 1px rgba(60, 64, 67, 0.15);\n",
              "      fill: #174EA6;\n",
              "    }\n",
              "\n",
              "    [theme=dark] .colab-df-convert {\n",
              "      background-color: #3B4455;\n",
              "      fill: #D2E3FC;\n",
              "    }\n",
              "\n",
              "    [theme=dark] .colab-df-convert:hover {\n",
              "      background-color: #434B5C;\n",
              "      box-shadow: 0px 1px 3px 1px rgba(0, 0, 0, 0.15);\n",
              "      filter: drop-shadow(0px 1px 2px rgba(0, 0, 0, 0.3));\n",
              "      fill: #FFFFFF;\n",
              "    }\n",
              "  </style>\n",
              "\n",
              "      <script>\n",
              "        const buttonEl =\n",
              "          document.querySelector('#df-23af64b0-e184-4537-933b-0d71da4fbf04 button.colab-df-convert');\n",
              "        buttonEl.style.display =\n",
              "          google.colab.kernel.accessAllowed ? 'block' : 'none';\n",
              "\n",
              "        async function convertToInteractive(key) {\n",
              "          const element = document.querySelector('#df-23af64b0-e184-4537-933b-0d71da4fbf04');\n",
              "          const dataTable =\n",
              "            await google.colab.kernel.invokeFunction('convertToInteractive',\n",
              "                                                     [key], {});\n",
              "          if (!dataTable) return;\n",
              "\n",
              "          const docLinkHtml = 'Like what you see? Visit the ' +\n",
              "            '<a target=\"_blank\" href=https://colab.research.google.com/notebooks/data_table.ipynb>data table notebook</a>'\n",
              "            + ' to learn more about interactive tables.';\n",
              "          element.innerHTML = '';\n",
              "          dataTable['output_type'] = 'display_data';\n",
              "          await google.colab.output.renderOutput(dataTable, element);\n",
              "          const docLink = document.createElement('div');\n",
              "          docLink.innerHTML = docLinkHtml;\n",
              "          element.appendChild(docLink);\n",
              "        }\n",
              "      </script>\n",
              "    </div>\n",
              "  </div>\n",
              "  "
            ]
          },
          "metadata": {},
          "execution_count": 14
        }
      ]
    },
    {
      "cell_type": "code",
      "source": [
        "#데이터 전처리\n",
        "X = data.drop(['charges'], axis = 1)\n",
        "y = data.charges\n",
        "\n",
        "X_train,X_test,y_train,y_test = train_test_split(X,y, random_state = 7)"
      ],
      "metadata": {
        "id": "crkDgjKtis0u"
      },
      "execution_count": 15,
      "outputs": []
    },
    {
      "cell_type": "code",
      "source": [
        "NGB = NGBRegressor()\n",
        "\n",
        "# GridSearch 를 사용하기 위해 parameters 를 정한다.\n",
        "parameters = {'learning_rate': [0.01, 0.02, 0.03, 0.04],\n",
        "              'col_sample': [0.9, 0.5, 0.2, 0.1],\n",
        "              'n_estimators': [100, 500, 1000],\n",
        "              }\n",
        "\n",
        "# GBR 을 모델로, parameters 를 파라미터로 받고, cv는 교차 검증을 위해 분할하는 데이터 셋의 개수이다.\n",
        "grid_NGB = GridSearchCV(estimator=NGB, param_grid=parameters, cv=2, n_jobs=-1)\n",
        "ngb = grid_NGB.fit(X_train, y_train)\n",
        "print('best parameters : ', grid_NGB.best_params_)\n",
        "y_preds = ngb.predict(X_test)\n",
        "MAPE = find_mape(y_test, y_preds)\n",
        "# test Mean Squared Error\n",
        "test_MSE = np.sqrt(mean_squared_error(y_preds, y_test))\n",
        "test_MAE = mean_absolute_error(y_preds, y_test)\n",
        "print('Test RMSE', test_MSE)\n",
        "print('Test MAE', test_MAE)\n",
        "print('Test MAPE',MAPE)"
      ],
      "metadata": {
        "id": "q3gXgiBeha2e",
        "outputId": "d480882d-a25c-424a-8bff-6c2fb7164b35",
        "colab": {
          "base_uri": "https://localhost:8080/"
        }
      },
      "execution_count": 52,
      "outputs": [
        {
          "output_type": "stream",
          "name": "stderr",
          "text": [
            "/usr/local/lib/python3.7/dist-packages/sklearn/model_selection/_validation.py:372: FitFailedWarning: \n",
            "24 fits failed out of a total of 96.\n",
            "The score on these train-test partitions for these parameters will be set to nan.\n",
            "If these failures are not expected, you can try to debug them by setting error_score='raise'.\n",
            "\n",
            "Below are more details about the failures:\n",
            "--------------------------------------------------------------------------------\n",
            "12 fits failed with the following error:\n",
            "Traceback (most recent call last):\n",
            "  File \"/usr/local/lib/python3.7/dist-packages/sklearn/model_selection/_validation.py\", line 680, in _fit_and_score\n",
            "    estimator.fit(X_train, y_train, **fit_params)\n",
            "  File \"/usr/local/lib/python3.7/dist-packages/ngboost/ngboost.py\", line 277, in fit\n",
            "    proj_grad = self.fit_base(X_batch, grads, weight_batch)\n",
            "  File \"/usr/local/lib/python3.7/dist-packages/ngboost/ngboost.py\", line 153, in fit_base\n",
            "    clone(self.Base).fit(X, g, sample_weight=sample_weight) for g in grads.T\n",
            "  File \"/usr/local/lib/python3.7/dist-packages/ngboost/ngboost.py\", line 153, in <listcomp>\n",
            "    clone(self.Base).fit(X, g, sample_weight=sample_weight) for g in grads.T\n",
            "  File \"/usr/local/lib/python3.7/dist-packages/sklearn/tree/_classes.py\", line 1320, in fit\n",
            "    X_idx_sorted=X_idx_sorted,\n",
            "  File \"/usr/local/lib/python3.7/dist-packages/sklearn/tree/_classes.py\", line 166, in fit\n",
            "    X, y, validate_separately=(check_X_params, check_y_params)\n",
            "  File \"/usr/local/lib/python3.7/dist-packages/sklearn/base.py\", line 578, in _validate_data\n",
            "    X = check_array(X, **check_X_params)\n",
            "  File \"/usr/local/lib/python3.7/dist-packages/sklearn/utils/validation.py\", line 817, in check_array\n",
            "    % (n_features, array.shape, ensure_min_features, context)\n",
            "ValueError: Found array with 0 feature(s) (shape=(501, 0)) while a minimum of 1 is required.\n",
            "\n",
            "--------------------------------------------------------------------------------\n",
            "12 fits failed with the following error:\n",
            "Traceback (most recent call last):\n",
            "  File \"/usr/local/lib/python3.7/dist-packages/sklearn/model_selection/_validation.py\", line 680, in _fit_and_score\n",
            "    estimator.fit(X_train, y_train, **fit_params)\n",
            "  File \"/usr/local/lib/python3.7/dist-packages/ngboost/ngboost.py\", line 277, in fit\n",
            "    proj_grad = self.fit_base(X_batch, grads, weight_batch)\n",
            "  File \"/usr/local/lib/python3.7/dist-packages/ngboost/ngboost.py\", line 153, in fit_base\n",
            "    clone(self.Base).fit(X, g, sample_weight=sample_weight) for g in grads.T\n",
            "  File \"/usr/local/lib/python3.7/dist-packages/ngboost/ngboost.py\", line 153, in <listcomp>\n",
            "    clone(self.Base).fit(X, g, sample_weight=sample_weight) for g in grads.T\n",
            "  File \"/usr/local/lib/python3.7/dist-packages/sklearn/tree/_classes.py\", line 1320, in fit\n",
            "    X_idx_sorted=X_idx_sorted,\n",
            "  File \"/usr/local/lib/python3.7/dist-packages/sklearn/tree/_classes.py\", line 166, in fit\n",
            "    X, y, validate_separately=(check_X_params, check_y_params)\n",
            "  File \"/usr/local/lib/python3.7/dist-packages/sklearn/base.py\", line 578, in _validate_data\n",
            "    X = check_array(X, **check_X_params)\n",
            "  File \"/usr/local/lib/python3.7/dist-packages/sklearn/utils/validation.py\", line 817, in check_array\n",
            "    % (n_features, array.shape, ensure_min_features, context)\n",
            "ValueError: Found array with 0 feature(s) (shape=(502, 0)) while a minimum of 1 is required.\n",
            "\n",
            "  warnings.warn(some_fits_failed_message, FitFailedWarning)\n",
            "/usr/local/lib/python3.7/dist-packages/sklearn/model_selection/_search.py:972: UserWarning: One or more of the test scores are non-finite: [10.00858486 11.09388232 13.37415651  9.89792526 13.00483908 18.58589666\n",
            " 10.16584332 14.70328309 21.27900078 10.45262124 17.03795297 21.30946226\n",
            " 10.21523177 10.33824452 11.93856575 10.00355294 12.10195228 17.31934656\n",
            " 10.0153122  14.21515853 21.20979094 10.2469706  17.34595982 27.61923194\n",
            " 10.52299795 10.26685685 10.40592431 10.39211653 10.41004835 10.95416102\n",
            " 10.35219635 10.75174852 12.05739228 10.33368844 11.08273943 13.19892333\n",
            "         nan         nan         nan         nan         nan         nan\n",
            "         nan         nan         nan         nan         nan         nan]\n",
            "  category=UserWarning,\n"
          ]
        },
        {
          "output_type": "stream",
          "name": "stdout",
          "text": [
            "[iter 0] loss=10.8181 val_loss=0.0000 scale=2.0000 norm=17966.7475\n",
            "[iter 100] loss=9.5283 val_loss=0.0000 scale=2.0000 norm=5221.1434\n",
            "[iter 200] loss=9.2409 val_loss=0.0000 scale=1.0000 norm=2087.9999\n",
            "[iter 300] loss=9.0446 val_loss=0.0000 scale=0.5000 norm=982.2872\n",
            "[iter 400] loss=8.9292 val_loss=0.0000 scale=1.0000 norm=1902.5383\n",
            "[iter 500] loss=8.8618 val_loss=0.0000 scale=0.5000 norm=926.5601\n",
            "[iter 600] loss=8.8068 val_loss=0.0000 scale=0.2500 norm=453.4234\n",
            "[iter 700] loss=8.7630 val_loss=0.0000 scale=0.5000 norm=891.2277\n",
            "[iter 800] loss=8.7307 val_loss=0.0000 scale=0.1250 norm=218.6104\n",
            "[iter 900] loss=8.6992 val_loss=0.0000 scale=0.0000 norm=0.0033\n",
            "best parameters :  {'col_sample': 0.5, 'learning_rate': 0.04, 'n_estimators': 1000}\n",
            "Test RMSE 4820.340536718877\n",
            "Test MAE 2779.3561303641513\n",
            "Test MAPE 38.29686138700825\n"
          ]
        }
      ]
    },
    {
      "cell_type": "code",
      "source": [
        ""
      ],
      "metadata": {
        "id": "36UbIMsZXjHJ"
      },
      "execution_count": 52,
      "outputs": []
    }
  ],
  "metadata": {
    "colab": {
      "collapsed_sections": [],
      "name": "NGBR_RFR.ipynb",
      "provenance": []
    },
    "kernelspec": {
      "display_name": "Python 3",
      "name": "python3"
    },
    "accelerator": "GPU"
  },
  "nbformat": 4,
  "nbformat_minor": 0
}